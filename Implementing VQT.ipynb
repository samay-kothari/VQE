{
 "cells": [
  {
   "cell_type": "code",
   "execution_count": 43,
   "id": "9f73afd4",
   "metadata": {},
   "outputs": [],
   "source": [
    "import pennylane as qml\n",
    "from matplotlib import pyplot as plt\n",
    "import numpy as np\n",
    "from numpy import array\n",
    "import scipy\n",
    "from scipy.optimize import minimize\n",
    "import networkx as nx\n",
    "import itertools\n",
    "\n",
    "np.random.seed(42)"
   ]
  },
  {
   "cell_type": "markdown",
   "id": "0b9e9e63",
   "metadata": {},
   "source": [
    "Defining the hamiltonian for the graph where we have qubits as part of a cyclic graph, the heisenberg hamiltonian is given as:\n",
    "$$\\hat{H} = \\sum_{(i,j)\\in E} X_iX_j + Y_iY_j + Z_iZ_j$$ \n",
    "where we have X, Y and Z as the pauli matrices acting on the i-th qubit. E is the set of the edges, along which the qubits are interacting, of the cyclic graph."
   ]
  },
  {
   "cell_type": "code",
   "execution_count": 23,
   "id": "beebbb3c",
   "metadata": {},
   "outputs": [],
   "source": [
    "def create_hamiltonian_matrix(n, graph):\n",
    "\n",
    "    matrix = np.zeros((2 ** n, 2 ** n))\n",
    "\n",
    "    for i in graph.edges:\n",
    "        x = y = z = 1\n",
    "        for j in range(0, n):\n",
    "            if j == i[0] or j == i[1]:\n",
    "            # If an edge exists between the qubit connection\n",
    "                x = np.kron(x, qml.PauliX.matrix)\n",
    "                y = np.kron(y, qml.PauliY.matrix)\n",
    "                z = np.kron(z, qml.PauliZ.matrix)\n",
    "            else:\n",
    "            # If there is not edge(interaction) between the qubits\n",
    "                x = np.kron(x, np.identity(2))\n",
    "                y = np.kron(y, np.identity(2))\n",
    "                z = np.kron(z, np.identity(2))\n",
    "        matrix = np.add(matrix, np.add(x, np.add(y, z)))\n",
    "\n",
    "    return matrix\n",
    "interaction_graph = nx.cycle_graph(4)\n",
    "ham_matrix = create_hamiltonian_matrix(4, interaction_graph)\n"
   ]
  },
  {
   "cell_type": "markdown",
   "id": "8b7128e2",
   "metadata": {},
   "source": [
    "# VQT"
   ]
  },
  {
   "cell_type": "markdown",
   "id": "31f3869d",
   "metadata": {},
   "source": [
    "Giving the initial parameters $\\beta$, which is the inverse temperature for which we need to simulate the thermal state for the given hamiltonian.\n",
    "$$ \\hat{\\sigma}_\\beta = \\frac{1}{Z_\\beta}e^{-\\beta \\hat{H}}, Z_\\beta=tr(e^{-\\beta\\hat{H}})$$ "
   ]
  },
  {
   "cell_type": "code",
   "execution_count": 24,
   "id": "504ef94c",
   "metadata": {},
   "outputs": [],
   "source": [
    "beta = 2\n",
    "# Number of qubits for the circuit will be 4, since we are simulating a 4 qubit hamiltonian.\n",
    "num_qubits = 4"
   ]
  },
  {
   "cell_type": "markdown",
   "id": "b2fb8f01",
   "metadata": {},
   "source": [
    "## Iniitialisation"
   ]
  },
  {
   "cell_type": "markdown",
   "id": "919160ce",
   "metadata": {},
   "source": [
    "The first step of initialisation is the create an initial density matrix of the state which will be stored classically, $p_\\theta$. We consider $p_\\theta$ distribution to be factorized latent space model which means that we can write it as an uncorrelated tensor product of 4 one-qubit density matrix that are diagonal in computational basis. Its major motivation is that $p_\\theta$ scales linearly with number of qubits rather than scaling exponentially.\n",
    "$$p_\\theta^i = p_i(\\theta_i)\\ket{0}\\bra{0} + (1-p_i(\\theta_i))\\ket{1}\\bra{1} $$ \n",
    "we can define $p_i(\\theta_i)$ to be sigmoid.\n",
    "$$ p_i(\\theta_i) = \\frac{e^{\\theta_i}}{e^{\\theta_i}+1} $$"
   ]
  },
  {
   "cell_type": "code",
   "execution_count": 25,
   "id": "cd51d0df",
   "metadata": {},
   "outputs": [],
   "source": [
    "def prob_distribution(params):\n",
    "    sigmoid = np.exp(params)/(np.exp(params)+1)\n",
    "    return np.vstack([sigmoid, 1-sigmoid]).T"
   ]
  },
  {
   "cell_type": "markdown",
   "id": "f5260b1a",
   "metadata": {},
   "source": [
    "## Ansatz Circuit"
   ]
  },
  {
   "cell_type": "markdown",
   "id": "42e69aab",
   "metadata": {},
   "source": [
    "The ansatz circuit or the $U(\\phi)$ which is the quantum computation part of the algorithm. It is comprised of the rotation and coupling layers. These rotations and coupling parameters are $\\phi$ which we manipulate during the process of the optimisation.\n",
    "To contruct the ansatz we combine the paramerterized rotation and coupling gates. The rotation layer is simply $R_x$ $R_y$ $R_z$ gates applied to each qubits. The coupling layer is coupling gates placed between teh edge of the interaction graph."
   ]
  },
  {
   "cell_type": "code",
   "execution_count": 42,
   "id": "c8d9aa65",
   "metadata": {},
   "outputs": [
    {
     "name": "stdout",
     "output_type": "stream",
     "text": [
      " 0: ──RZ(1)──RX(1)──RY(1)─────────╭C─────────────────────────────╭RX(1)──RZ(1)──RX(1)──RY(1)──╭C─────────────────────────────╭RX(1)──RZ(1)──RX(1)──RY(1)──╭C─────────────────────────────╭RX(1)──RZ(1)──RX(1)──RY(1)──╭C──────────────────────╭RX(1)──╭┤ ⟨H0⟩ \n",
      " 1: ──X──────RZ(1)──RX(1)──RY(1)──╰RX(1)──╭C───────RZ(1)──RX(1)──│───────RY(1)────────────────╰RX(1)──╭C───────RZ(1)──RX(1)──│───────RY(1)────────────────╰RX(1)──╭C───────RZ(1)──RX(1)──│───────RY(1)────────────────╰RX(1)──╭C──────────────│───────├┤ ⟨H0⟩ \n",
      " 2: ──RZ(1)──RX(1)──RY(1)─────────────────╰RX(1)──╭C──────RZ(1)──│───────RX(1)──RY(1)─────────────────╰RX(1)──╭C──────RZ(1)──│───────RX(1)──RY(1)─────────────────╰RX(1)──╭C──────RZ(1)──│───────RX(1)──RY(1)─────────────────╰RX(1)──╭C──────│───────├┤ ⟨H0⟩ \n",
      " 3: ──X──────RZ(1)──RX(1)──RY(1)──────────────────╰RX(1)─────────╰C──────RZ(1)──RX(1)──RY(1)──────────────────╰RX(1)─────────╰C──────RZ(1)──RX(1)──RY(1)──────────────────╰RX(1)─────────╰C──────RZ(1)──RX(1)──RY(1)──────────────────╰RX(1)──╰C──────╰┤ ⟨H0⟩ \n",
      "H0 =\n",
      "[[ 4.+0.j  0.+0.j  0.+0.j  0.+0.j  0.+0.j  0.+0.j  0.+0.j  0.+0.j  0.+0.j\n",
      "   0.+0.j  0.+0.j  0.+0.j  0.+0.j  0.+0.j  0.+0.j  0.+0.j]\n",
      " [ 0.+0.j  0.+0.j  2.+0.j  0.+0.j  0.+0.j  0.+0.j  0.+0.j  0.+0.j  2.+0.j\n",
      "   0.+0.j  0.+0.j  0.+0.j  0.+0.j  0.+0.j  0.+0.j  0.+0.j]\n",
      " [ 0.+0.j  2.+0.j  0.+0.j  0.+0.j  2.+0.j  0.+0.j  0.+0.j  0.+0.j  0.+0.j\n",
      "   0.+0.j  0.+0.j  0.+0.j  0.+0.j  0.+0.j  0.+0.j  0.+0.j]\n",
      " [ 0.+0.j  0.+0.j  0.+0.j  0.+0.j  0.+0.j  2.+0.j  0.+0.j  0.+0.j  0.+0.j\n",
      "   0.+0.j  2.+0.j  0.+0.j  0.+0.j  0.+0.j  0.+0.j  0.+0.j]\n",
      " [ 0.+0.j  0.+0.j  2.+0.j  0.+0.j  0.+0.j  0.+0.j  0.+0.j  0.+0.j  2.+0.j\n",
      "   0.+0.j  0.+0.j  0.+0.j  0.+0.j  0.+0.j  0.+0.j  0.+0.j]\n",
      " [ 0.+0.j  0.+0.j  0.+0.j  2.+0.j  0.+0.j -4.+0.j  2.+0.j  0.+0.j  0.+0.j\n",
      "   2.+0.j  0.+0.j  0.+0.j  2.+0.j  0.+0.j  0.+0.j  0.+0.j]\n",
      " [ 0.+0.j  0.+0.j  0.+0.j  0.+0.j  0.+0.j  2.+0.j  0.+0.j  0.+0.j  0.+0.j\n",
      "   0.+0.j  2.+0.j  0.+0.j  0.+0.j  0.+0.j  0.+0.j  0.+0.j]\n",
      " [ 0.+0.j  0.+0.j  0.+0.j  0.+0.j  0.+0.j  0.+0.j  0.+0.j  0.+0.j  0.+0.j\n",
      "   0.+0.j  0.+0.j  2.+0.j  0.+0.j  0.+0.j  2.+0.j  0.+0.j]\n",
      " [ 0.+0.j  2.+0.j  0.+0.j  0.+0.j  2.+0.j  0.+0.j  0.+0.j  0.+0.j  0.+0.j\n",
      "   0.+0.j  0.+0.j  0.+0.j  0.+0.j  0.+0.j  0.+0.j  0.+0.j]\n",
      " [ 0.+0.j  0.+0.j  0.+0.j  0.+0.j  0.+0.j  2.+0.j  0.+0.j  0.+0.j  0.+0.j\n",
      "   0.+0.j  2.+0.j  0.+0.j  0.+0.j  0.+0.j  0.+0.j  0.+0.j]\n",
      " [ 0.+0.j  0.+0.j  0.+0.j  2.+0.j  0.+0.j  0.+0.j  2.+0.j  0.+0.j  0.+0.j\n",
      "   2.+0.j -4.+0.j  0.+0.j  2.+0.j  0.+0.j  0.+0.j  0.+0.j]\n",
      " [ 0.+0.j  0.+0.j  0.+0.j  0.+0.j  0.+0.j  0.+0.j  0.+0.j  2.+0.j  0.+0.j\n",
      "   0.+0.j  0.+0.j  0.+0.j  0.+0.j  2.+0.j  0.+0.j  0.+0.j]\n",
      " [ 0.+0.j  0.+0.j  0.+0.j  0.+0.j  0.+0.j  2.+0.j  0.+0.j  0.+0.j  0.+0.j\n",
      "   0.+0.j  2.+0.j  0.+0.j  0.+0.j  0.+0.j  0.+0.j  0.+0.j]\n",
      " [ 0.+0.j  0.+0.j  0.+0.j  0.+0.j  0.+0.j  0.+0.j  0.+0.j  0.+0.j  0.+0.j\n",
      "   0.+0.j  0.+0.j  2.+0.j  0.+0.j  0.+0.j  2.+0.j  0.+0.j]\n",
      " [ 0.+0.j  0.+0.j  0.+0.j  0.+0.j  0.+0.j  0.+0.j  0.+0.j  2.+0.j  0.+0.j\n",
      "   0.+0.j  0.+0.j  0.+0.j  0.+0.j  2.+0.j  0.+0.j  0.+0.j]\n",
      " [ 0.+0.j  0.+0.j  0.+0.j  0.+0.j  0.+0.j  0.+0.j  0.+0.j  0.+0.j  0.+0.j\n",
      "   0.+0.j  0.+0.j  0.+0.j  0.+0.j  0.+0.j  0.+0.j  4.+0.j]]\n",
      "\n"
     ]
    }
   ],
   "source": [
    "# defining the depth of the circuit\n",
    "depth = 4\n",
    "device = qml.device(\"default.qubit\", wires = num_qubits)\n",
    "def ansatz(rotation_parameters, coupling_parameters, sample):\n",
    "    # Preparing the initial qubit basis state according to the sample\n",
    "    qml.BasisStatePreparation(sample, wires=range(num_qubits))\n",
    "\n",
    "    for i in range(0, depth):\n",
    "        rotations = [\"Z\", \"X\", \"Y\"]\n",
    "        # Rotation layer\n",
    "        for j in range(len(rotations)):\n",
    "            qml.AngleEmbedding(rotation_parameters[i][j], wires=range(num_qubits), rotation=rotations[j])\n",
    "        # Coupling layer (doing controlled rotation action on the qubits that have to coupled)\n",
    "        qml.broadcast(\n",
    "            unitary=qml.CRX,\n",
    "            pattern=\"ring\",\n",
    "            wires=range(num_qubits),\n",
    "            parameters=coupling_parameters[i]\n",
    "        )\n",
    "    # doing measurement on the circuit\n",
    "    return qml.expval(qml.Hermitian(ham_matrix, wires=range(num_qubits)))\n",
    "\n",
    "# Constructing the qnode for the ansatz circuit\n",
    "qnode = qml.QNode(ansatz, device)\n",
    "rotation_params = [[[1, 1, 1, 1], [1, 1, 1, 1], [1, 1, 1, 1]] for i in range(0, depth)]\n",
    "coupling_params = [[1, 1, 1, 1] for i in range(0, depth)]\n",
    "print(qml.draw(qnode, expansion_strategy=\"device\")(rotation_params, coupling_params, sample=[0, 1, 0, 1]))"
   ]
  },
  {
   "cell_type": "markdown",
   "id": "7cc9d173",
   "metadata": {},
   "source": [
    "## Entropy"
   ]
  },
  {
   "cell_type": "markdown",
   "id": "cf75e7ff",
   "metadata": {},
   "source": [
    "The von neumann entropy of the state, which is determined by collection of $p_{\\theta_i}$. Since the entropu of a collection of multiple uncorrelated subsystem, we can sum the entropy for each subsystem, we can sum the entropy values of each one-qubit system in teh factorized space to get the total, the Von Neumann entropy of the latent and visible states are also identical due to the invariance of Von Neumann entropy under unitary action."
   ]
  },
  {
   "cell_type": "code",
   "execution_count": 35,
   "id": "1a91c7bc",
   "metadata": {},
   "outputs": [],
   "source": [
    "def entropy(distribution):\n",
    "    total_entropy = 0\n",
    "    for d in distribution:\n",
    "        total_entropy += -1*d[0]*np.log(d[0]) + -1*d[1]*np.log(d[1])\n",
    "    return total_entropy"
   ]
  },
  {
   "cell_type": "markdown",
   "id": "ffee6402",
   "metadata": {},
   "source": [
    "## The Cost Function"
   ]
  },
  {
   "cell_type": "markdown",
   "id": "da6befd4",
   "metadata": {},
   "source": [
    "We combine the ansatz and the entropy to get the cost function, we use ansatz to calculate $\\bra{x_i}U^{\\dagger}(\\phi)\\hat{H}U(\\phi)\\ket{x_i}$ for each basis state $\\ket{x_i}$. We then multiply these expectation values by their corresponding $(p_\\theta)_i$, which is exactly the probability of sampling $\\ket{x_i}$ from the distribution. Summing these gives us the expected value of the hamiltonian.\n",
    "\n",
    "$$ L_{VQT}(\\theta,\\phi) = \\beta tr(\\hat{p}_{\\theta\\phi}\\hat{H}) - S(\\hat{p}_{\\theta\\phi}) $$"
   ]
  },
  {
   "cell_type": "code",
   "execution_count": 33,
   "id": "648f26ee",
   "metadata": {},
   "outputs": [],
   "source": [
    "def exact_cost(params):\n",
    "\n",
    "    # Arranging the parameters\n",
    "    dist_params = params[0:num_qubits]\n",
    "    ansatz_params_1 = params[num_qubits : ((depth + 1) * num_qubits)]\n",
    "    ansatz_params_2 = params[((depth + 1) * num_qubits) :]\n",
    "\n",
    "    coupling = np.split(ansatz_params_1, depth)\n",
    "\n",
    "    # Partitions the parameters into multiple lists\n",
    "    split = np.split(ansatz_params_2, depth)\n",
    "    rotation = []\n",
    "    for s in split:\n",
    "        rotation.append(np.split(s, 3))\n",
    "\n",
    "    ansatz_params = [rotation, coupling]\n",
    "    # The probability distribution of the initial state\n",
    "    distribution = prob_distribution(dist_params)\n",
    "    combos = itertools.product([0, 1], repeat=num_qubits)\n",
    "    set = [list(c) for c in combos]\n",
    "    cost = 0\n",
    "    # The value of the hamiltonian for the distribution using the quantum ansatz circuit\n",
    "    for i in set:\n",
    "        quant_result = qnode(ansatz_params[0], ansatz_params[1], sample=i)\n",
    "        for j in range(0, len(i)):\n",
    "            quant_result = quant_result*distribution[j][i[j]]\n",
    "        cost += quant_result\n",
    "    # The entropy of the system\n",
    "    entropy_cost = entropy(distribution)\n",
    "    # The final cost function, the formula for which is defined above\n",
    "    final_cost = beta*cost - entropy_cost\n",
    "\n",
    "    return final_cost"
   ]
  },
  {
   "cell_type": "markdown",
   "id": "88e7bd25",
   "metadata": {},
   "source": [
    "## Optimisation Function"
   ]
  },
  {
   "cell_type": "code",
   "execution_count": 29,
   "id": "1f71f2c5",
   "metadata": {},
   "outputs": [],
   "source": [
    "def cost_optimisation(params):\n",
    "    global iterations\n",
    "    cost = exact_cost(params)\n",
    "    if iterations % 50 == 0:\n",
    "        print(\"Cost at Step {}: {}\".format(iterations, cost))\n",
    "\n",
    "    iterations += 1\n",
    "    return cost"
   ]
  },
  {
   "cell_type": "markdown",
   "id": "233a33c8",
   "metadata": {},
   "source": [
    "Using the COBYLA optimizer to minimise the cost function that we defined.\n",
    "\n",
    "Also, we are generating random parameters for the initialisation of the circuit."
   ]
  },
  {
   "cell_type": "code",
   "execution_count": 36,
   "id": "82e87242",
   "metadata": {},
   "outputs": [
    {
     "name": "stdout",
     "output_type": "stream",
     "text": [
      "Cost at Step 0: -2.2708453033289824\n",
      "Cost at Step 50: -3.5526991851098946\n",
      "Cost at Step 100: -4.985514622752113\n",
      "Cost at Step 150: -6.786081932766198\n",
      "Cost at Step 200: -7.020076718646381\n",
      "Cost at Step 250: -7.780378451484982\n",
      "Cost at Step 300: -8.798373940764044\n",
      "Cost at Step 350: -10.1665993471928\n",
      "Cost at Step 400: -10.886237535082678\n",
      "Cost at Step 450: -11.144180330356843\n",
      "Cost at Step 500: -11.21272487807346\n",
      "Cost at Step 550: -11.71773889977797\n",
      "Cost at Step 600: -12.475937469065913\n",
      "Cost at Step 650: -12.99805668715278\n",
      "Cost at Step 700: -13.23280893979654\n",
      "Cost at Step 750: -13.424297883089249\n",
      "Cost at Step 800: -13.535958968766002\n",
      "Cost at Step 850: -13.736168688024165\n",
      "Cost at Step 900: -13.863802393772236\n",
      "Cost at Step 950: -14.087521403610259\n",
      "Cost at Step 1000: -14.03504954673694\n",
      "Cost at Step 1050: -14.311088524280688\n",
      "Cost at Step 1100: -14.343668942931105\n",
      "Cost at Step 1150: -14.369165447851893\n",
      "Cost at Step 1200: -14.478481973785733\n",
      "Cost at Step 1250: -14.60599355285146\n",
      "Cost at Step 1300: -14.676511360316283\n",
      "Cost at Step 1350: -14.721767099498553\n",
      "Cost at Step 1400: -14.794135875489193\n",
      "Cost at Step 1450: -14.846819424255603\n",
      "Cost at Step 1500: -14.894663021807146\n",
      "Cost at Step 1550: -14.917374924029248\n"
     ]
    }
   ],
   "source": [
    "iterations = 0\n",
    "\n",
    "number = num_qubits * (1 + depth * 4)\n",
    "params = [np.random.randint(-200, 200) / 100 for i in range(0, number)]\n",
    "out = minimize(cost_optimisation, x0=params, method=\"COBYLA\", options={\"maxiter\": 1600})\n",
    "out_params = out[\"x\"]"
   ]
  },
  {
   "cell_type": "markdown",
   "id": "cf341988",
   "metadata": {},
   "source": [
    "## Verifying Results"
   ]
  },
  {
   "cell_type": "markdown",
   "id": "95523836",
   "metadata": {},
   "source": [
    "Now we have the final optimized parameters, to compare the results we construct a density matrix, from the given vaues of $\\theta$ and $\\phi$ from some initial state."
   ]
  },
  {
   "cell_type": "code",
   "execution_count": 37,
   "id": "6b7b22c6",
   "metadata": {},
   "outputs": [],
   "source": [
    "def prepare_state(params, device):\n",
    "    density_matrix_test = np.zeros((2 ** num_qubits, 2 ** num_qubits))\n",
    "    dist_params = params[0:num_qubits]\n",
    "    ansatz_params_1 = params[num_qubits : ((depth + 1) * num_qubits)]\n",
    "    ansatz_params_2 = params[((depth + 1) * num_qubits) :]\n",
    "\n",
    "    coupling = np.split(ansatz_params_1, depth)\n",
    "\n",
    "    # Partitions the parameters into multiple lists\n",
    "    split = np.split(ansatz_params_2, depth)\n",
    "    rotation = []\n",
    "    for s in split:\n",
    "        rotation.append(np.split(s, 3))\n",
    "\n",
    "    ansatz_params = [rotation, coupling]\n",
    "    distribution = prob_distribution(dist_params)\n",
    "    combos = itertools.product([0, 1], repeat=num_qubits)\n",
    "    set = [list(c) for c in combos]\n",
    "    # Runs the circuit in the case of the optimal parameters, for each bitstring,\n",
    "    # and adds the result to the final density matrix\n",
    "    for i in set:\n",
    "        qnode(ansatz_params[0], ansatz_params[1], sample=i)\n",
    "        state = device.state\n",
    "        for j in range(len(i)):\n",
    "            state = np.sqrt(distribution[j][i[j]]) * state\n",
    "        density_matrix_test = np.add(density_matrix_test, np.outer(state, np.conj(state)))\n",
    "\n",
    "    return density_matrix_test \n",
    "#  Prepares the density matrix\n",
    "density_matrix_test = prepare_state(out_params, device)\n",
    "    "
   ]
  },
  {
   "cell_type": "code",
   "execution_count": 39,
   "id": "9d8a6b1f",
   "metadata": {},
   "outputs": [
    {
     "name": "stdout",
     "output_type": "stream",
     "text": [
      "Trace Distance: 0.06426760247477861\n"
     ]
    }
   ],
   "source": [
    "def create_target(qubit, beta, ham, graph):\n",
    "\n",
    "    # Calculates the matrix form of the density matrix, by taking\n",
    "    # the exponential of the Hamiltonian\n",
    "\n",
    "    h = ham(qubit, graph)\n",
    "    y = -1 * float(beta) * h\n",
    "    new_matrix = scipy.linalg.expm(np.array(y))\n",
    "    norm = np.trace(new_matrix)\n",
    "    final_target = (1 / norm) * new_matrix\n",
    "\n",
    "    return final_target\n",
    "\n",
    "\n",
    "target_density_matrix = create_target(\n",
    "    num_qubits, beta,\n",
    "    create_hamiltonian_matrix,\n",
    "    interaction_graph\n",
    "    )\n",
    "\n",
    "traceDistance = 0.5 * np.trace(np.absolute(np.add(target_density_matrix, -1 * density_matrix_test)))\n",
    "print(\"Trace Distance: \" + str(traceDistance))\n"
   ]
  },
  {
   "cell_type": "markdown",
   "id": "6602a862",
   "metadata": {},
   "source": [
    "As we can see the trace distance between the target matrix and the initial matrix is close 0, hence we can say that the thermal state that VQT has generated for the corresponding hamiltonian H is good approximation"
   ]
  }
 ],
 "metadata": {
  "interpreter": {
   "hash": "70cb367e6fec0962c6e3134eda9a5194ede6c53a3b5f6d3165a7d8abaeaeb708"
  },
  "kernelspec": {
   "display_name": "Python 3.8.2 64-bit ('vqe': venv)",
   "language": "python",
   "name": "python3"
  },
  "language_info": {
   "codemirror_mode": {
    "name": "ipython",
    "version": 3
   },
   "file_extension": ".py",
   "mimetype": "text/x-python",
   "name": "python",
   "nbconvert_exporter": "python",
   "pygments_lexer": "ipython3",
   "version": "3.8.2"
  }
 },
 "nbformat": 4,
 "nbformat_minor": 5
}
